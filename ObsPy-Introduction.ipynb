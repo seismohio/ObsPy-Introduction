{
 "cells": [
  {
   "cell_type": "markdown",
   "metadata": {},
   "source": [
    "<p> In this activity, you will get a chance to start using ObsPy, a Python library for seismology intended to facilitate the development of seismological software packages and workflows.  The goal is to utilize these abilities to provide a bridge for seismology into the larger scientific Python ecosystem.  </p>\n",
    "<p> To get started, we will load the whole ObsPy library of functions into our Jupyter notebook using the Python import function:</p>"
   ]
  },
  {
   "cell_type": "code",
   "execution_count": null,
   "metadata": {},
   "outputs": [],
   "source": [
    "import obspy"
   ]
  },
  {
   "cell_type": "markdown",
   "metadata": {},
   "source": [
    "<p>During this introduction we will look at some seismic data from April 17, 2012 because there were some sizable earthquakes on that date.  ObsPy has many different tools that are helpful to seismologists.  We will start with one of the most basic (and most important), handling date and time information.  It does not take long as a seismologist to get frustrated with how many datasets and software represent date and time information with different formats.  I would guess some of you have been a little bothered with how precise the FetchEvent format is, and then the format for other commands want a different, but still precise, format.  ObsPy has created the UTCDateTime() function to help with this.  Take a minute to have a look at the manual for this function:</p> <p><a href=https://docs.obspy.org/packages/autogen/obspy.core.utcdatetime.UTCDateTime.html>https://docs.obspy.org/packages/autogen/obspy.core.utcdatetime.UTCDateTime.html</a></p> <p>As you can quickly see, this function is helpful for converting between many different date and time formats.  Let's examine how to use this function.  Trying each of these on the Python command prompt, which of the following actually gives you date information instead of an error?</p>"
   ]
  },
  {
   "cell_type": "code",
   "execution_count": null,
   "metadata": {},
   "outputs": [],
   "source": [
    "### You need to remove the # comment sign from one command at a time to try them out.\n",
    "UTCDateTime(0)\n",
    "# UTCDateTime(\"0\")\n",
    "# obspy UTCDateTime(0)\n",
    "# obspy UTCDateTime(\"0\")\n",
    "# obspy.UTCDateTime(0)\n",
    "# obspy.UTCDateTime(\"0\")"
   ]
  },
  {
   "cell_type": "markdown",
   "metadata": {},
   "source": [
    "<p>The correct answer to the previous question is based on how we loaded the obspy library.  In essence, question 1 loaded the whole library, so then we need to specify individual functions as part of that library with the <i>library.function()</i> format.  However, Python also allows you to read individual functions so they can be called by name only. Try the following:</p> "
   ]
  },
  {
   "cell_type": "code",
   "execution_count": null,
   "metadata": {},
   "outputs": [],
   "source": [
    "from obspy import UTCDateTime"
   ]
  },
  {
   "cell_type": "markdown",
   "metadata": {},
   "source": [
    "<p>Now try each of these on the Python command prompt again, and identify which of the following actually gives you date information instead of an error.</p>"
   ]
  },
  {
   "cell_type": "code",
   "execution_count": null,
   "metadata": {},
   "outputs": [],
   "source": [
    "### Remember to remove the # comment sign from one command at a time to try them out.\n",
    "UTCDateTime(0)\n",
    "# UTCDateTime(\"0\")\n",
    "# obspy.UTCDateTime(0)\n",
    "# obspy.UTCDateTime(\"0\")\n",
    "# obspy UTCDateTime(0)\n",
    "# obspy UTCDateTime(\"0\")"
   ]
  },
  {
   "cell_type": "markdown",
   "metadata": {},
   "source": [
    "<p>There should have been two commands that worked correctly without producing an error in the previous set of code.  One correct command is from the initial way we read in the whole library (import obspy), and the other correct command is from the second way we read in the specific function (from obspy import UTCDateTime).</p><p>Let's take a minute to figure out what is happening when we input the number 0 to the UTCDateTime function.  The output of a correct command should be midnight on the beginning of January 1, 1970.  reveals that when given a number, UTCDateTime interprets it as so-called \"epoch time\".  This is the number of seconds since the beginning of 1970.  Although that might seem very arbitrary, it has to do with the history of when the Unix operating system was created (note that Linux is an open source version of Unix).  Much like when it was created, the epoch time is a very useful way to do math on date and time information since it is a single number instead of a combination of numbers (year, month, day, hour, minute, second) with special conditions (i.e., minutes only go up to a value of 60 before incrementing the hour category). </p><p>For example, what number (instead of zero) can we input into the UTCDateTime function to go exactly one day into the future from the epoch time represented by zero?   Try adjusting the number in the following code until it outputs 1970-01-02T00:00:00.</p>"
   ]
  },
  {
   "cell_type": "code",
   "execution_count": null,
   "metadata": {},
   "outputs": [],
   "source": [
    "print(UTCDateTime(0))"
   ]
  },
  {
   "cell_type": "markdown",
   "metadata": {},
   "source": [
    "<p>As indicated earlier, we will look at earthquakes on April 17, 2012 in this notebook.  Which of the following would be acceptable ways to input this date into the UTCDateTime function?  You may want to review the manual link for UTCDateTime again to see which input formats are allowed.</p><p><a href=https://docs.obspy.org/packages/autogen/obspy.core.utcdatetime.UTCDateTime.html>https://docs.obspy.org/packages/autogen/obspy.core.utcdatetime.UTCDateTime.html</a></p>"
   ]
  },
  {
   "cell_type": "code",
   "execution_count": null,
   "metadata": {},
   "outputs": [],
   "source": [
    "### Choose one of these commands by removing the # sign:\n",
    "UTCDateTime(\"20120417\")\n",
    "# UTCDateTime(\"2012-04-17\")\n",
    "# UTCDateTime(\"2012/04/17\")\n",
    "# UTCDateTime(\"04/17/2012\") \n",
    "# UTCDateTime(\"April 17, 2012\") \n",
    "# UTCDateTime(\"2012/04/17T00:00:00\") \n",
    "# UTCDateTime(\"04-17-2012T00:00:00\") \n",
    "# UTCDateTime(\"2012-04-17T00:00:00\")"
   ]
  },
  {
   "cell_type": "markdown",
   "metadata": {},
   "source": [
    "Now let's store the output of the UTCDateTime function in a variable called <b>dt</b> and print the date and time 1 day later (2012-04-18T00:00:00).  Which of the following pairs of commands would accomplish this?"
   ]
  },
  {
   "cell_type": "code",
   "execution_count": null,
   "metadata": {},
   "outputs": [],
   "source": [
    "### Choose one of these commands:\n",
    "dt = UTCDateTime(04/17/2012)\n",
    "# dt = UTCDateTime(\"04/17/2012\")\n",
    "# dt = UTCDateTime(2012-04-17T00:00:00)\n",
    "# dt = UTCDateTime(\"2012-04-17T00:00:00\")\n",
    "\n",
    "### Then choose one of these commands:\n",
    "print (dt+1) \n",
    "# print (dt+24)\n",
    "# print (dt+3600) \n",
    "# print (dt+86400) "
   ]
  },
  {
   "cell_type": "markdown",
   "metadata": {},
   "source": [
    "Once you store the date and time as a variable, you can access \"attributes\" of that variable.  UTCDateTime has an attribute for the day of the week, where Monday is 0, Tuesday is 1 .. Sunday is 6.  Taking a look at the manual for UTCDateTime again, how would you print which day of the week that April 17, 2012 was?\n",
    "<p><a href=https://docs.obspy.org/packages/autogen/obspy.core.utcdatetime.UTCDateTime.html>https://docs.obspy.org/packages/autogen/obspy.core.utcdatetime.UTCDateTime.html</a></p>"
   ]
  },
  {
   "cell_type": "code",
   "execution_count": null,
   "metadata": {},
   "outputs": [],
   "source": [
    "### Choose one of these commands:\n",
    "print (dt.day)\n",
    "# print (dt.week)\n",
    "# print (dt(day))\n",
    "# print (dt(week))\n",
    "# print (dt.weekday)\n",
    "# print (dt(weekday))\n",
    "# print (dt.dayofweek)\n",
    "# print (dt(dayofweek))"
   ]
  },
  {
   "cell_type": "markdown",
   "metadata": {},
   "source": [
    "<p>Hopefully the output showed you that April 17, 2012 was a Tuesday.</p><p>The seismic data for this day is available from the ObsPy website, but to be able to retrieve the seismic data, we need to know the Julian day (the day of the year).  The filename will have the year and the Julian day with only a period in between them (no spaces) - How would we print this?</p>"
   ]
  },
  {
   "cell_type": "code",
   "execution_count": null,
   "metadata": {},
   "outputs": [],
   "source": [
    "### Choose one of these commands:\n",
    "print (dt.year \".\" dt.julian) \n",
    "# print (dt.year \".\" dt.julday) \n",
    "# print (dt.year,\".\",dt.julian) \n",
    "# print (dt.year,\".\",dt.julday) \n",
    "# print (dt.year \".\" dt.julday sep=\"\") \n",
    "# print (dt.year \".\" dt.julian sep=\"\")\n",
    "# print (dt.year,\".\",dt.julian,sep=\"\") \n",
    "# print (dt.year,\".\",dt.julday,sep=\"\") "
   ]
  },
  {
   "cell_type": "markdown",
   "metadata": {},
   "source": [
    "<p>Next we will use the ObsPy read() function to read a seismogram into Python. We will load an example half-day-long seismogram from April 17, 2012 recorded at station BFO. The URL to where you can retrieve this file is:</p><p>https://examples.obspy.org/GR.BFO..LHZ.2012.108</p><p>ObsPy has 3 main object types: <span style=\"text-decoration: underline;\">stream</span>, <span style=\"text-decoration: underline;\">catalog</span>, and <span style=\"text-decoration: underline;\">inventory</span>. The stream object is designed for collections of seismograms.</p> <p>How would you use the read() function to load this seismogram into a Python stream object that we will name <strong>st</strong>? Again, you will need to try these in the code below to see which syntax is correct, but be careful to make sure the command actually does what is asked for (some will run but not give you the correct result).</p>"
   ]
  },
  {
   "cell_type": "code",
   "execution_count": null,
   "metadata": {},
   "outputs": [],
   "source": [
    "### Choose one of these commands:\n",
    "read(https://examples.obspy.org/GR.BFO..LHZ.2012.108) \n",
    "# read(\"https://examples.obspy.org/GR.BFO..LHZ.2012.108\")\n",
    "# st = read(https://examples.obspy.org/GR.BFO..LHZ.2012.108)\n",
    "# st = read(\"https://examples.obspy.org/GR.BFO..LHZ.2012.108\") \n",
    "# obspy.read(https://examples.obspy.org/GR.BFO..LHZ.2012.108) \n",
    "# obspy.read(\"https://examples.obspy.org/GR.BFO..LHZ.2012.108\")\n",
    "# st = obspy.read(https://examples.obspy.org/GR.BFO..LHZ.2012.108)\n",
    "# st = obspy.read(\"https://examples.obspy.org/GR.BFO..LHZ.2012.108\") "
   ]
  },
  {
   "cell_type": "markdown",
   "metadata": {},
   "source": [
    "<p>Now that you have created a stream object, take a minute to look at the manual to see some of the \"methods\" that can be applied to it:</p> <p><a href= https://docs.obspy.org/packages/autogen/obspy.core.stream.Stream.html >https://docs.obspy.org/packages/autogen/obspy.core.stream.Stream.html</a></p> <p>In essence, there are a wide array of actions you can take with a seismogram in ObsPy, each of which can be clicked on that page to learn more about the different methods.  To start with, we will simply plot this seismogram.  I like to make plots in my Jupyter notebooks interactive, so that you can zoom in or measure using the cursor.  We need to tell the plotting engine used by ObsPy (matplotlib) that we want the plots to be interactive in a Jupyter notebook with the following code:</p>"
   ]
  },
  {
   "cell_type": "code",
   "execution_count": null,
   "metadata": {},
   "outputs": [],
   "source": [
    "%matplotlib notebook"
   ]
  },
  {
   "cell_type": "markdown",
   "metadata": {},
   "source": [
    "It is relatively easy using to make a plot using the plot() function available for stream objects in ObsPy. Here is the manual page for it: <p> <a href= https://docs.obspy.org/packages/autogen/obspy.core.stream.Stream.plot.html>https://docs.obspy.org/packages/autogen/obspy.core.stream.Stream.plot.html</a></p> <p>How would we perform this on the st object?</p>"
   ]
  },
  {
   "cell_type": "code",
   "execution_count": null,
   "metadata": {},
   "outputs": [],
   "source": [
    "### Choose one of these commands:\n",
    "plot() \n",
    "# plot(st) \n",
    "# st.plot()\n",
    "# obspy.plot() \n",
    "# obspy.plot(st)\n",
    "# obspy.st.plot() \n",
    "# st.obspy.plot()"
   ]
  },
  {
   "cell_type": "markdown",
   "metadata": {},
   "source": [
    "<p>Hopefully you are able to view the seismogram in an interactive plot with the previous code (it may be the second of two similar plots).  Note that the x and y coordinates (time and amplitude) of the cursor location are shown in the lower right of the plot window, which can allow you to examine the maximum amplitude of the earthquakes in this seismogram.  You should be able to use the magnifying square button in the interactive plot window to zoom in on parts of the seismogram and then the back arrow button to return to the previous zoom level. </p><p> You can review the Stream help page again to learn about another method of the stream object to quickly identify the maximum amplitude</p> \n",
    "<p><a href= https://docs.obspy.org/packages/autogen/obspy.core.stream.Stream.html >https://docs.obspy.org/packages/autogen/obspy.core.stream.Stream.html</a></p>"
   ]
  },
  {
   "cell_type": "code",
   "execution_count": null,
   "metadata": {},
   "outputs": [],
   "source": [
    "st.max()"
   ]
  },
  {
   "cell_type": "markdown",
   "metadata": {},
   "source": [
    "<p>Check to make sure that the number you get from the previous code matches the value you see on the plot when you zoom in around the larger amplitude.</p>\n",
    "<p>Next, let's make an estimate of the background noise level. To do this, we can create a copy of the seismogram (st2) and then trim it down to just the first hour using the copy() and trim() methods of the Stream object:</p>"
   ]
  },
  {
   "cell_type": "code",
   "execution_count": null,
   "metadata": {},
   "outputs": [],
   "source": [
    "st2 = st.copy()\n",
    "st2.trim(dt,dt+3600)\n",
    "st2.plot()"
   ]
  },
  {
   "cell_type": "markdown",
   "metadata": {},
   "source": [
    "<p>Review how the seismogram looks to make sure it is the first hour and shows background noise.  Hopefully when you were reviewing the seismogram you noticed that the amplitudes are offset slightly, such that the baseline of the seismogram is not located at 0.  We can fix this using the <samp>detrend()</samp> method for Streams, and specifying the <samp>\"demean\"</samp> option.  Then we can plot the seismogram again to see if the baseline issue has been corrected by removing the mean value:</p>"
   ]
  },
  {
   "cell_type": "code",
   "execution_count": null,
   "metadata": {},
   "outputs": [],
   "source": [
    "st2.detrend(\"demean\")\n",
    "st2.plot()"
   ]
  },
  {
   "cell_type": "markdown",
   "metadata": {},
   "source": [
    "Then you can use the <samp>max()</samp> method again to get the maximum amplitude of the background noise."
   ]
  },
  {
   "cell_type": "code",
   "execution_count": null,
   "metadata": {},
   "outputs": [],
   "source": [
    "st2.max()"
   ]
  },
  {
   "cell_type": "markdown",
   "metadata": {},
   "source": [
    "We can also calculate the signal to noise ratio by dividing the maximum of the signal by the maximum of the background noise.  The <samp>max()</samp> function returns values in a list format (a single column array), so we need to use indexing of <samp>[0]</samp> to refer to the value that is returned in the list."
   ]
  },
  {
   "cell_type": "code",
   "execution_count": null,
   "metadata": {},
   "outputs": [],
   "source": [
    "print(st.max()[0]/st2.max()[0])"
   ]
  },
  {
   "cell_type": "markdown",
   "metadata": {},
   "source": [
    "<p>Another commonly used function available for stream objects is the filter() function. Here is the manual page for it:</p> <p><a href=https://docs.obspy.org/packages/autogen/obspy.core.stream.Stream.filter.html> https://docs.obspy.org/packages/autogen/obspy.core.stream.Stream.filter.html</a></p> <p>How would we filter the full seismogram to only allow frequencies less than 0.1 Hz?</p>"
   ]
  },
  {
   "cell_type": "code",
   "execution_count": null,
   "metadata": {},
   "outputs": [],
   "source": [
    "### Choose one of these commands:\n",
    "st.filter(f<0.1) \n",
    "# filter(st, f<0.1) \n",
    "# st.filter(freq<0.1) \n",
    "# filter(st, freq<0.1)\n",
    "# st.filter(\"lowpass\", f=0.1) \n",
    "# filter(st, \"lowpass\", f=0.1) \n",
    "# st.filter(lowpass, freq=0.1)\n",
    "# filter(st, lowpass, freq=0.1)  \n",
    "# st.filter(\"lowpass\", freq=0.1) \n",
    "# filter(st, \"lowpass\", freq=0.1) "
   ]
  },
  {
   "cell_type": "markdown",
   "metadata": {},
   "source": [
    "Go ahead and plot the seismogram to see how it has changed after filtering."
   ]
  },
  {
   "cell_type": "code",
   "execution_count": null,
   "metadata": {},
   "outputs": [],
   "source": [
    "st.plot()"
   ]
  },
  {
   "cell_type": "markdown",
   "metadata": {},
   "source": [
    "Now choose the command that would apply the filter to the seismogram trimmed to the first hour and then use the final command to plot it."
   ]
  },
  {
   "cell_type": "code",
   "execution_count": null,
   "metadata": {},
   "outputs": [],
   "source": [
    "### Choose one of these commands:\n",
    "st2.filter(f<0.1) \n",
    "# st2.filter(freq<0.1) \n",
    "# st2.filter(\"lowpass\", f=0.1) \n",
    "# st2.filter(lowpass, freq=0.1)\n",
    "# st2.filter(\"lowpass\", freq=0.1) \n",
    "\n",
    "### Then run this command:\n",
    "st2.plot()"
   ]
  },
  {
   "cell_type": "markdown",
   "metadata": {},
   "source": [
    "Now we can calculate the signal to noise ratio after filtering the seismograms."
   ]
  },
  {
   "cell_type": "code",
   "execution_count": null,
   "metadata": {},
   "outputs": [],
   "source": [
    "print(st.max()[0]/st2.max()[0])"
   ]
  },
  {
   "cell_type": "markdown",
   "metadata": {},
   "source": [
    "<p>When you compare that number to the signal-to-noise ratio from the unfiltered seismograms, hopefully it will illustrate just how helpful filtering can be for improving our resolution of a signal of interest.</p>\n",
    "<p>Now we will use the plot() function but with the dayplot option selected to let us view up to a full day of data (we only have half a day of data loaded right now).  Reviewing the plot() manual, which of the following commands would accomplish the dayplot view?</p>\n",
    "<p> <a href= https://docs.obspy.org/packages/autogen/obspy.core.stream.Stream.plot.html>https://docs.obspy.org/packages/autogen/obspy.core.stream.Stream.plot.html</a></p>"
   ]
  },
  {
   "cell_type": "code",
   "execution_count": null,
   "metadata": {},
   "outputs": [],
   "source": [
    "### Choose one of these commands:\n",
    "dayplot() \n",
    "# st.dayplot() \n",
    "# plot(\"dayplot\") \n",
    "# st.plot(\"dayplot\")\n",
    "# plot(type=dayplot)\n",
    "# plot(type=\"dayplot\") \n",
    "# st.plot(type=dayplot) \n",
    "# st.plot(type=\"dayplot\") "
   ]
  },
  {
   "cell_type": "markdown",
   "metadata": {},
   "source": [
    "This plot is a little hard to read because each line is only 15 minutes, so larger/longer earthquake signals show up on multiple lines.  You can adjust amount of time plotted per line to 60 minutes.  Which of the following would accomplish this?"
   ]
  },
  {
   "cell_type": "code",
   "execution_count": null,
   "metadata": {},
   "outputs": [],
   "source": [
    "### Choose one of these commands:\n",
    "st.plot(type=\"dayplot\", time=60)\n",
    "# st.plot(type=\"dayplot\", time=3600)\n",
    "# st.plot(type=\"dayplot\", interval=60) \n",
    "# st.plot(type=\"dayplot\", interval=3600) \n",
    "# st.plot(type=\"dayplot\", time_offset=60) \n",
    "# st.plot(type=\"dayplot\", time_offset=3600) \n",
    "# st.plot(type=\"dayplot\", time_interval=60) \n",
    "# st.plot(type=\"dayplot\", time_interval=3600)"
   ]
  },
  {
   "cell_type": "markdown",
   "metadata": {},
   "source": [
    "At this point you can hopefully see there are some sizable surface waves in this seismogram which are likely from more than one earthquake. A very nice feature of ObsPy is that it can plot the origin times of catalog earthquakes in the seismogram view to help identify what is responsible for the seismic waves visible in the seismogram. Which of the following would accomplish this?"
   ]
  },
  {
   "cell_type": "code",
   "execution_count": null,
   "metadata": {},
   "outputs": [],
   "source": [
    "### Choose one of these commands:\n",
    "st.plot(type=\"dayplot\", interval=60, events=6.0)\n",
    "# st.plot(type=\"dayplot\", interval=60, min_magnitude=6.0)\n",
    "# st.plot(type=\"dayplot\", interval=60, events={min_mag:6.0})\n",
    "# st.plot(type=\"dayplot\", interval=60, events={min_magnitude=6.0})\n",
    "# st.plot(type=\"dayplot\", interval=60, events={\"min_magnitude\": 6.0})\n",
    "# st.plot(type=\"dayplot\", interval=60, events={\"magnitude\": 6.0-10.0})"
   ]
  },
  {
   "cell_type": "markdown",
   "metadata": {},
   "source": [
    "<p>Next we should learn more about these events.  We can obtain a catalog from the FDSN webservices client for ObsPy.  You can read about ObsPy Client library here:</p> <p><a href= https://docs.obspy.org/packages/obspy.clients.fdsn.html >https://docs.obspy.org/packages/obspy.clients.fdsn.html</a></p> <p>The following code shoes how to load the Client library into Python and set it to pull data from the IRIS webservices.</p>"
   ]
  },
  {
   "cell_type": "code",
   "execution_count": null,
   "metadata": {},
   "outputs": [],
   "source": [
    "from obspy.clients.fdsn import Client\n",
    "client = Client(\"IRIS\") "
   ]
  },
  {
   "cell_type": "markdown",
   "metadata": {},
   "source": [
    "Next, you should run these commands to set starttime and endtime variables using UTCDateTime:"
   ]
  },
  {
   "cell_type": "code",
   "execution_count": null,
   "metadata": {},
   "outputs": [],
   "source": [
    "starttime = UTCDateTime(\"2012-04-17\")\n",
    "endtime = UTCDateTime(\"2012-04-18\")"
   ]
  },
  {
   "cell_type": "markdown",
   "metadata": {},
   "source": [
    "Then you need to use the <samp>get_events()</samp> function of the client library.  You should request from the starttime until the endtime and set a minimum magnitude of 6.  The output will be stored in a Catalog object called <b>cat</b>.  Which of the following would accomplish this?  It may be frustrating, but the capitalization of Client vs client in these commands is important."
   ]
  },
  {
   "cell_type": "code",
   "execution_count": null,
   "metadata": {},
   "outputs": [],
   "source": [
    "### Choose one of these commands:\n",
    "cat = get_events(start=starttime, end=endtime, minmagnitude=6) \n",
    "# cat = get_events(start=starttime, end=endtime, \"min_magnitude\": 6.0)\n",
    "# cat = client.get_events(start=starttime, end=endtime, minmagnitude=6) \n",
    "# cat = Client.get_events(time=starttime, end=endtime, \"min_magnitude\": 6.0) \n",
    "# cat = Client.get_events(start=starttime, end=endtime, \"min_magnitude\": 6.0) \n",
    "# cat = get_events(starttime=starttime, endtime=endtime, \"min_magnitude\": 6.0)\n",
    "# cat = client.get_events(starttime=starttime, endtime=endtime, minmagnitude=6) \n",
    "# cat = Client.get_events(starttime=starttime, endtime=endtime, minmagnitude=6) \n",
    "# cat = client.get_events(starttime=starttime, endtime=endtime, \"min_magnitude\":6.0) "
   ]
  },
  {
   "cell_type": "markdown",
   "metadata": {},
   "source": [
    "<p>You can do a variety of things with this Catalog object (<b>cat</b>) you just created, as you can see from the manual for the Catalog class:</p> <p><a href= https://docs.obspy.org/packages/autogen/obspy.core.event.Catalog.html >https://docs.obspy.org/packages/autogen/obspy.core.event.Catalog.html</a></p> <p>But first, you should go ahead and use <samp>print()</samp> to see the events stored in the cat object."
   ]
  },
  {
   "cell_type": "code",
   "execution_count": null,
   "metadata": {},
   "outputs": [],
   "source": [
    "print(cat)"
   ]
  },
  {
   "cell_type": "markdown",
   "metadata": {},
   "source": [
    "<p>Next, you can plot the location of the events using the plot() method of the Catalog object. Here is the manual for that function:</p><p><a href=\"https://docs.obspy.org/packages/autogen/obspy.core.event.Catalog.plot.html\">https://docs.obspy.org/packages/autogen/obspy.core.event.Catalog.plot.html</a></p>"
   ]
  },
  {
   "cell_type": "code",
   "execution_count": null,
   "metadata": {},
   "outputs": [],
   "source": [
    "cat.plot(projection=\"local\")"
   ]
  },
  {
   "cell_type": "markdown",
   "metadata": {},
   "source": [
    "<p>Next we will load a catalog of events in a different way to demonstrate how to read an existing catalog file. This uses the <samp>read_events()</samp> function that you can read about here:</p>\\n<p><a href=\"https://docs.obspy.org/packages/autogen/obspy.core.event.read_events.html\">https://docs.obspy.org/packages/autogen/obspy.core.event.read_events.html</a></p><p>How would you load the <samp>read_events()</samp> function to use it by name only?"
   ]
  },
  {
   "cell_type": "code",
   "execution_count": null,
   "metadata": {},
   "outputs": [],
   "source": [
    "### Choose one of these commands:\n",
    "from obspy import read_events \n",
    "# import read_events from obspy\n",
    "# from obspy import read_events()\n",
    "# import read_events() from obspy"
   ]
  },
  {
   "cell_type": "markdown",
   "metadata": {},
   "source": [
    "Next we should use this function to read a catalog of earthquakes for the Chile mainshock from April 17, 2012 and a week of aftershocks.  I have made this catalog available as a QuakeML file in this location:</p> <p>http://www.users.miamioh.edu/brudzimr/classes/chile.xml</p> <p>How would we read this file into a catalog object called chile?"
   ]
  },
  {
   "cell_type": "code",
   "execution_count": null,
   "metadata": {},
   "outputs": [],
   "source": [
    "### Choose one of these commands:\n",
    "read_events(http://www.users.miamioh.edu/brudzimr/classes/chile.xml) \n",
    "# read_events(\"http://www.users.miamioh.edu/brudzimr/classes/chile.xml\") \n",
    "# chile.read_events(http://www.users.miamioh.edu/brudzimr/classes/chile.xml)\n",
    "# chile.read_events(\"http://www.users.miamioh.edu/brudzimr/classes/chile.xml\") \n",
    "# chile = read_events(http://www.users.miamioh.edu/brudzimr/classes/chile.xml)\n",
    "# chile = read_events(\"http://www.users.miamioh.edu/brudzimr/classes/chile.xml\") "
   ]
  },
  {
   "cell_type": "markdown",
   "metadata": {},
   "source": [
    "You can use <samp>print()</samp> to preview the catalog you read in and see how many events are in the catalog:"
   ]
  },
  {
   "cell_type": "code",
   "execution_count": null,
   "metadata": {},
   "outputs": [],
   "source": [
    "print(chile)"
   ]
  },
  {
   "cell_type": "markdown",
   "metadata": {},
   "source": [
    "How would you view a zoomed in map of this catalog?"
   ]
  },
  {
   "cell_type": "code",
   "execution_count": null,
   "metadata": {},
   "outputs": [],
   "source": [
    "### Choose one of these commands:\n",
    "cat.plot() \n",
    "# plot(chile) \n",
    "# chile.plot()\n",
    "# plot(\"chile\") \n",
    "# cat.plot(projection=\"local\")\n",
    "# chile.plot(projection=\"local\")\n",
    "# plot(chile, projection=\"local\")\n",
    "# plot(\"chile\", projection=\"local\") "
   ]
  },
  {
   "cell_type": "markdown",
   "metadata": {},
   "source": [
    "Take a minute to review the patterns of seismicity.  Note that the color scale is for depth in kilometers and the size of the symbols is related to magnitude.  The magnitude is also labeled with text.  You should be able to use the box magnifier button to zoom in to the bottom plot if you are interested."
   ]
  },
  {
   "cell_type": "markdown",
   "metadata": {},
   "source": [
    "<p>Next we should look at which stations in the IRIS Global Seismic Network were recording during the earthquake in Chile.  We can use the <samp>get_stations()</samp> function within the client library to perform the webservices request through IRIS:</p><p><a href=https://docs.obspy.org/packages/autogen/obspy.clients.fdsn.client.Client.get_stations.html>https://docs.obspy.org/packages/autogen/obspy.clients.fdsn.client.Client.get_stations.html</a></p><p> The network code for the IRIS Global Seismic Network is IU, and you should use a * for the station code to retrieve all the stations in the network.  Since we were looking at the LHZ channel seismogram earlier, we should look for stations recording that channel.  Which of the following would store this request in an inventory object named <strong>inv</strong>?"
   ]
  },
  {
   "cell_type": "code",
   "execution_count": null,
   "metadata": {},
   "outputs": [],
   "source": [
    "### Choose one of these commands:\n",
    "inv = client.get_stations(net=\"IU\", sta=\"*\", cha=\"LHZ\", level=\"cha\")\n",
    "# inventory = client.get_stations(net=\"IU\", sta=\"*\", cha=\"LHZ\", level=\"cha\")\n",
    "# inv = client.get_stations(network=\"IU\", station=\"*\", channel=\"LHZ\", level=\"channel\")\n",
    "# inventory = client.get_stations(network=\"IU\", station=\"*\", channel=\"LHZ\", level=\"channel\") \n",
    "# inv = client.get_stations(net=\"IU\", sta=\"*\", cha=\"LHZ\", level=\"cha\", starttime=starttime, endtime=endtime) \n",
    "# inventory = client.get_stations(net=\"IU\", sta=\"*\", cha=\"LHZ\", level=\"cha\", starttime=starttime, endtime=endtime)\n",
    "# inv = client.get_stations(network=\"IU\", station=\"*\", channel=\"LHZ\", level=\"channel\", starttime=starttime, endtime=endtime) \n",
    "# inventory = client.get_stations(network=\"IU\", station=\"*\", channel=\"LHZ\", level=\"channel\", starttime=starttime, endtime=endtime) "
   ]
  },
  {
   "cell_type": "markdown",
   "metadata": {},
   "source": [
    "Now how would you plot the locations of these stations?"
   ]
  },
  {
   "cell_type": "code",
   "execution_count": null,
   "metadata": {},
   "outputs": [],
   "source": [
    "### Choose one of these commands:\n",
    "plot() \n",
    "# plot(inv)\n",
    "# inv.plot() \n",
    "# plot(inventory) \n",
    "# client.plot(inv)\n",
    "# inventory.plot() "
   ]
  },
  {
   "cell_type": "markdown",
   "metadata": {},
   "source": [
    "That is a lot of stations!  We can narrow it down by focusing on just those in the contiguous United States (or some other part of the world). In order to make it easy to count how many stations there are, we can specify the minimum and maximum coordinates of the Unites States with our get_stations() function like this:"
   ]
  },
  {
   "cell_type": "code",
   "execution_count": null,
   "metadata": {},
   "outputs": [],
   "source": [
    "inv = client.get_stations(network=\"IU\", station=\"*\", channel=\"LHZ\", level=\"channel\", starttime=starttime, endtime=endtime, minlatitude=\"24.5\", maxlatitude=\"49.5\", minlongitude=\"-124.8\", maxlongitude=\"-66.6\")"
   ]
  },
  {
   "cell_type": "markdown",
   "metadata": {},
   "source": [
    "Then you can use print() to see how many stations from the original request are in the contiguous United States."
   ]
  },
  {
   "cell_type": "code",
   "execution_count": null,
   "metadata": {},
   "outputs": [],
   "source": [
    "print(inv)"
   ]
  },
  {
   "cell_type": "markdown",
   "metadata": {},
   "source": [
    "Next I would like you to request data for station ANMO in the US that is one of the quietest and produces some of the best recordings in the world. There should be two channel listings for this station in the printed inventory output from the command right above this.  The difference between these 2 channels is in the location code (00 vs 10), which means there are two instruments recording as part of this station with slightly different locations inside the station vault.  We will focus on the 00 location channel for this activity."
   ]
  },
  {
   "cell_type": "markdown",
   "metadata": {},
   "source": [
    "I would like you to request 12 hours of data at station ANMO to examine the seismograms of the Chile earthquakes at this distant station in the United States.  We can use the get_waveforms() function within the client library to perform the webservices request through IRIS:</p><p><a href=https://docs.obspy.org/packages/autogen/obspy.clients.fdsn.client.Client.get_waveforms.html>https://docs.obspy.org/packages/autogen/obspy.clients.fdsn.client.Client.get_waveforms.html</a></p><p>Which of the following would request 12 hours of data at station ANMO?  Note that your existing <strong>starttime</strong> variable has the correct start time in it, but your <strong>endtime</strong> is 24 hours later, so it's not correct for the end time of your request since I asked you to download 12 hours of data.  Instead, you should use some math to specify the end time relative to the <strong>starttime</strong> variable.  Which of the following would accomplish this?"
   ]
  },
  {
   "cell_type": "code",
   "execution_count": null,
   "metadata": {},
   "outputs": [],
   "source": [
    "### Choose one of these commands:\n",
    "anmo = client.get_waveforms(IU, ANMO, 00, LHZ, starttime, endtime + 12 * 60 * 60) \n",
    "# anmo = client.get_waveforms(IU, ANMO, 00, LHZ, starttime, starttime + 12 * 60 * 60)\n",
    "# anmo = client.get_waveforms(\"IU\", \"ANMO\", \"00\", \"LHZ\", starttime, endtime + 12 * 60 * 60) \n",
    "# anmo = client.get_waveforms(\"IU\", \"ANMO\", \"00\", \"LHZ\", starttime, starttime + 12 * 60 * 60) \n",
    "# anmo = client.get_waveforms(net=IU, sta=ANMO, loc=00, cha=LHZ, starttime, endtime + 12 * 60 * 60) \n",
    "# anmo = client.get_waveforms(net=IU, sta=ANMO, loc=00, cha=LHZ, starttime, starttime + 12 * 60 * 60)\n",
    "# anmo = client.get_waveforms(net=\"IU\", sta=\"ANMO\", loc=\"00\", cha=\"LHZ\", starttime, endtime + 12 * 60 * 60)\n",
    "# anmo = client.get_waveforms(net=\"IU\", sta=\"ANMO\", loc=\"00\", cha=\"LHZ\", starttime, starttime + 12 * 60 * 60) "
   ]
  },
  {
   "cell_type": "markdown",
   "metadata": {},
   "source": [
    "How do we plot it?"
   ]
  },
  {
   "cell_type": "code",
   "execution_count": null,
   "metadata": {},
   "outputs": [],
   "source": [
    "### Choose one of these commands:\n",
    "plot() \n",
    "# st.plot() \n",
    "# plot(anmo) \n",
    "# anmo.plot() \n",
    "# anmo(plot()) \n",
    "# st.plot(anmo)\n",
    "# client.plot(anmo)"
   ]
  },
  {
   "cell_type": "markdown",
   "metadata": {},
   "source": [
    "Take a minute to compare this seismogram to the BFO seismogram you looked at earlier.  What do you notice is similar or different?"
   ]
  },
  {
   "cell_type": "markdown",
   "metadata": {},
   "source": [
    "If you have some extra time, you can go back to earlier steps where we chose a station and choose a different one.  You can also go back even earlier and choose a different day to look at, perhaps a recent day.  Enjoy exploring with the ObsPy tools."
   ]
  },
  {
   "cell_type": "code",
   "execution_count": null,
   "metadata": {},
   "outputs": [],
   "source": []
  }
 ],
 "metadata": {
  "kernelspec": {
   "display_name": "Python 3",
   "language": "python",
   "name": "python3"
  },
  "language_info": {
   "codemirror_mode": {
    "name": "ipython",
    "version": 3
   },
   "file_extension": ".py",
   "mimetype": "text/x-python",
   "name": "python",
   "nbconvert_exporter": "python",
   "pygments_lexer": "ipython3",
   "version": "3.5.2"
  }
 },
 "nbformat": 4,
 "nbformat_minor": 4
}
